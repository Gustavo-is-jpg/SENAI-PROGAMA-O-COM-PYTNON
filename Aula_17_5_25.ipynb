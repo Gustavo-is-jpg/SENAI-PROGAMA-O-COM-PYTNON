{
 "cells": [
  {
   "cell_type": "code",
   "execution_count": 1,
   "metadata": {},
   "outputs": [
    {
     "name": "stdout",
     "output_type": "stream",
     "text": [
      "50\n",
      "51\n",
      "52\n",
      "53\n",
      "54\n",
      "55\n",
      "56\n",
      "57\n",
      "58\n",
      "59\n",
      "60\n",
      "61\n",
      "62\n",
      "63\n",
      "64\n",
      "65\n",
      "66\n",
      "67\n",
      "68\n",
      "69\n",
      "70\n",
      "71\n",
      "72\n",
      "73\n",
      "74\n",
      "75\n",
      "76\n",
      "77\n",
      "78\n",
      "79\n",
      "80\n",
      "81\n",
      "82\n",
      "83\n",
      "84\n",
      "85\n",
      "86\n",
      "87\n",
      "88\n",
      "89\n",
      "90\n",
      "91\n",
      "92\n",
      "93\n",
      "94\n",
      "95\n",
      "96\n",
      "97\n",
      "98\n",
      "99\n",
      "100\n"
     ]
    }
   ],
   "source": [
    "import time\n",
    "\n",
    "\n",
    "i = 50\n",
    "while i <= 100:\n",
    "    print(i)\n",
    "    time.sleep(0.2)\n",
    "    i += 1"
   ]
  },
  {
   "cell_type": "code",
   "execution_count": null,
   "metadata": {},
   "outputs": [],
   "source": [
    "i = int(input('oi: '))\n",
    "x = 0\n",
    "while x <= i:\n",
    "    print(x)\n",
    "    x += 1\n",
    "\n"
   ]
  },
  {
   "cell_type": "code",
   "execution_count": null,
   "metadata": {},
   "outputs": [],
   "source": [
    "x = 10\n",
    "while x >= 0:\n",
    "    print(x)\n",
    "    x -= 1"
   ]
  },
  {
   "cell_type": "code",
   "execution_count": null,
   "metadata": {},
   "outputs": [],
   "source": [
    "i = int(input('oi: '))\n",
    "x = 0\n",
    "while x <= i:\n",
    "    if x % 2 ==0 :\n",
    "        print(x)\n",
    "    x += 1\n"
   ]
  },
  {
   "cell_type": "code",
   "execution_count": null,
   "metadata": {},
   "outputs": [],
   "source": [
    "i = int(input('oi: '))\n",
    "x = 0\n",
    "while x <= i:\n",
    "    if x % 2 !=0 :\n",
    "        print(x)\n",
    "    x += 1\n"
   ]
  },
  {
   "cell_type": "code",
   "execution_count": null,
   "metadata": {},
   "outputs": [],
   "source": [
    "f = int(input('Informe a nota: '))\n",
    "i = 0\n",
    "\n",
    "while i <= f:\n",
    "    if i >= 0 and i <= 10:\n",
    "        print('valida', i)\n",
    "    else:\n",
    "        break\n",
    "    i += 1"
   ]
  },
  {
   "cell_type": "code",
   "execution_count": null,
   "metadata": {},
   "outputs": [],
   "source": [
    "n = int(input('Tabuda de:'))\n",
    "i = int(input('Qualtos: '))\n",
    "\n",
    "x = 1\n",
    "\n",
    "while x <= i:\n",
    "\n",
    "    print(x, 'X', n, '=', n + x)\n",
    "    x += 1\n"
   ]
  },
  {
   "cell_type": "code",
   "execution_count": null,
   "metadata": {},
   "outputs": [],
   "source": [
    "pontos = 0\n",
    "i = 1\n",
    "while i <= 3:\n",
    "    respiosta = input('Qual a resposta da questão')\n",
    "    if i == 1 and respiosta == 'c' or respiosta == 'C':\n",
    "        pontos += 1\n",
    "    if i == 2 and respiosta == 'a' or respiosta == 'A':\n",
    "        pontos += 1\n",
    "    if i == 3 and respiosta == 'a' or respiosta == 'A':\n",
    "        pontos += 1\n",
    "    i += 1\n",
    "print('Você fez', pontos, 'pontos')"
   ]
  },
  {
   "cell_type": "code",
   "execution_count": null,
   "metadata": {},
   "outputs": [],
   "source": [
    "o = 1 \n",
    "while o <= 100:\n",
    "    print('Nunca acaba' * o)\n",
    "    o += 1"
   ]
  },
  {
   "cell_type": "code",
   "execution_count": 1,
   "metadata": {},
   "outputs": [
    {
     "ename": "TypeError",
     "evalue": "unsupported operand type(s) for +: 'int' and 'str'",
     "output_type": "error",
     "traceback": [
      "\u001b[31m---------------------------------------------------------------------------\u001b[39m",
      "\u001b[31mTypeError\u001b[39m                                 Traceback (most recent call last)",
      "\u001b[36mCell\u001b[39m\u001b[36m \u001b[39m\u001b[32mIn[1]\u001b[39m\u001b[32m, line 5\u001b[39m\n\u001b[32m      2\u001b[39m soma = \u001b[32m0\u001b[39m\n\u001b[32m      3\u001b[39m \u001b[38;5;28;01mfor\u001b[39;00m qualquer \u001b[38;5;129;01min\u001b[39;00m nome:\n\u001b[32m      4\u001b[39m     \u001b[38;5;66;03m#print(i)\u001b[39;00m\n\u001b[32m----> \u001b[39m\u001b[32m5\u001b[39m     soma = \u001b[43msoma\u001b[49m\u001b[43m \u001b[49m\u001b[43m+\u001b[49m\u001b[43m \u001b[49m\u001b[43mqualquer\u001b[49m\n\u001b[32m      7\u001b[39m \u001b[38;5;28mprint\u001b[39m(\u001b[33mf\u001b[39m\u001b[33m'\u001b[39m\u001b[33mO resultado e \u001b[39m\u001b[38;5;132;01m{\u001b[39;00msoma\u001b[38;5;132;01m}\u001b[39;00m\u001b[33m'\u001b[39m)\n",
      "\u001b[31mTypeError\u001b[39m: unsupported operand type(s) for +: 'int' and 'str'"
     ]
    }
   ],
   "source": [
    "nome = 'Gusatvo'\n",
    "soma = 0\n",
    "for qualquer in nome:\n",
    "    #print(i)\n",
    "    soma = soma + qualquer\n",
    "\n",
    "print(f'O resultado e {soma}')"
   ]
  },
  {
   "cell_type": "markdown",
   "metadata": {},
   "source": [
    "## Tabuada"
   ]
  },
  {
   "cell_type": "code",
   "execution_count": 31,
   "metadata": {},
   "outputs": [
    {
     "name": "stdout",
     "output_type": "stream",
     "text": [
      "-10 x 1 = -10\n",
      "-10 x 2 = -20\n",
      "-10 x 3 = -30\n",
      "-10 x 4 = -40\n",
      "-10 x 5 = -50\n",
      "-10 x 6 = -60\n",
      "-10 x 7 = -70\n",
      "-10 x 8 = -80\n",
      "-10 x 9 = -90\n",
      "-10 x 10 = -100\n"
     ]
    }
   ],
   "source": [
    "x = int(input('Qual tabuada: '))\n",
    "\n",
    "for i in range(1, 11):\n",
    "    print(f'{x} x {i} = {x*i}')"
   ]
  },
  {
   "cell_type": "markdown",
   "metadata": {},
   "source": [
    "## Arquivo te texto\n",
    "\n",
    "- with open(file = camilho do arquivo , modo = modo eitora/estrita, \n",
    "encoding = decodificador) as apelido:\n",
    "- bloco de codigo\n",
    "\n",
    "** Modo de Abertura deo arquivos\n",
    "\n",
    "- `w` - Write - Modo Escrita de arquivo (sobreescreve o arquivo)\n",
    "- `r` - Read - Modo de Leitura\n",
    "- `a` - Append - Mode de acrescantar (não sobreescreve o arquivo)\n"
   ]
  },
  {
   "cell_type": "code",
   "execution_count": 8,
   "metadata": {},
   "outputs": [
    {
     "name": "stdout",
     "output_type": "stream",
     "text": [
      "COn\n"
     ]
    }
   ],
   "source": [
    "nome_arquivo = 'pepsico.txt'\n",
    "\n",
    "hisria = f'''Em 1992, nas Filipinas, ocorreu o incidente 349, uma promoção da empresa\n",
    "Pepsi que se tornou um destre.\n",
    "Tampinha pemiadas com números diarios resultaram em um grande prêmio.\n",
    "Em 25 de maio, o número 349 foi anunciado como o vencedor, mas o erro de impressão faz que inúmeras tempinhas tivessem esse valor'''\n",
    "\n",
    "with open(file= nome_arquivo, mode= 'w', encoding= 'utf8') as arquivo:\n",
    "    print(hisria, file= arquivo)\n",
    "print(f'COn')"
   ]
  },
  {
   "cell_type": "code",
   "execution_count": 9,
   "metadata": {},
   "outputs": [
    {
     "name": "stdout",
     "output_type": "stream",
     "text": [
      "Arquivo gusatvo.txt criado com sucesso!\n"
     ]
    }
   ],
   "source": [
    "eu_arquivo = 'gusatvo.txt'\n",
    "\n",
    "mim_historia = f\"\"\"\n",
    "Gustavo é um estudante de programação que gosta de aprender novas tecnologias.\n",
    "Ele começou a programar aos 16 anos e desde então tem se dedicado a melhorar suas habilidades.\n",
    "Ele é apaixonado por resolver problemas e criar soluções inovadoras.\n",
    "O seu sonho é se tornar um desenvolvedor de software e trabalhar em projetos desafiadores.\n",
    "Ele odia IAs e quer ser um programador de verdade.\n",
    "Ele também gosta de jogar video games e passar tempo com seus amigos.\n",
    "\"\"\"\n",
    "\n",
    "with open(file= eu_arquivo, mode= 'w', encoding= 'utf8') as arquivo:\n",
    "    print(mim_historia, file= arquivo)\n",
    "print(f'Arquivo {eu_arquivo} criado com sucesso!')"
   ]
  },
  {
   "cell_type": "code",
   "execution_count": 13,
   "metadata": {},
   "outputs": [
    {
     "name": "stdout",
     "output_type": "stream",
     "text": [
      "Arquivo tarefas.txt criado com sucesso!\n"
     ]
    }
   ],
   "source": [
    "arquivo_tarefa = 'tarefas.txt'\n",
    "\n",
    "tarefa = input('Qual e a tarefa para faz: ')\n",
    "\n",
    "with open(file= arquivo_tarefa, mode= 'a', encoding= 'utf8') as arquivo:\n",
    "    print(tarefa, file= arquivo)\n",
    "\n",
    "print(f'Arquivo {arquivo_tarefa} criado com sucesso!')"
   ]
  },
  {
   "cell_type": "code",
   "execution_count": 15,
   "metadata": {},
   "outputs": [
    {
     "name": "stdout",
     "output_type": "stream",
     "text": [
      "aeoyidfbhnoauyrfbcoasbuvysaoufhnvlahyudgfbvoahfdvbgyu\n",
      "zwxedcfvgbhnjmk,l.ç\n",
      "oioi\n",
      "poiuytrewq\n",
      "\n"
     ]
    }
   ],
   "source": [
    "conteudo = None\n",
    "\n",
    "with open(file= arquivo_tarefa, mode= 'r', encoding= 'utf8') as arquivo:\n",
    "    conteudo = arquivo.read()\n",
    "print(conteudo)"
   ]
  },
  {
   "cell_type": "code",
   "execution_count": null,
   "metadata": {},
   "outputs": [],
   "source": []
  }
 ],
 "metadata": {
  "kernelspec": {
   "display_name": "Python 3",
   "language": "python",
   "name": "python3"
  },
  "language_info": {
   "codemirror_mode": {
    "name": "ipython",
    "version": 3
   },
   "file_extension": ".py",
   "mimetype": "text/x-python",
   "name": "python",
   "nbconvert_exporter": "python",
   "pygments_lexer": "ipython3",
   "version": "3.13.2"
  }
 },
 "nbformat": 4,
 "nbformat_minor": 2
}
