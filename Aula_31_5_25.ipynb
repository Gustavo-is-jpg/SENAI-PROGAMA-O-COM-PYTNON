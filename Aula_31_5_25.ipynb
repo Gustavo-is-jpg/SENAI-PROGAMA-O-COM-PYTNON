{
 "cells": [
  {
   "cell_type": "code",
   "execution_count": 11,
   "metadata": {},
   "outputs": [
    {
     "name": "stdout",
     "output_type": "stream",
     "text": [
      "A média é: 1.0\n"
     ]
    }
   ],
   "source": [
    "nota = []\n",
    "mais = 0\n",
    "\n",
    "for i in range(4):\n",
    "    nota.append(float(input('Digite a nota: ')))\n",
    "\n",
    "for i in range(4):\n",
    "    mais += nota[i]\n",
    "\n",
    "qual = len(nota)\n",
    "media = mais / qual\n",
    "print('A média é:', media)\n"
   ]
  },
  {
   "cell_type": "markdown",
   "metadata": {},
   "source": [
    "---\n",
    "### ***Crie uma  lista com numeros interios e imprima na Tala***"
   ]
  },
  {
   "cell_type": "code",
   "execution_count": 12,
   "metadata": {},
   "outputs": [
    {
     "name": "stdout",
     "output_type": "stream",
     "text": [
      "Defaulting to user installation because normal site-packages is not writeable\n",
      "Requirement already satisfied: Faker in c:\\users\\aluno\\appdata\\roaming\\python\\python313\\site-packages (37.3.0)\n",
      "Requirement already satisfied: tzdata in c:\\users\\aluno\\appdata\\roaming\\python\\python313\\site-packages (from Faker) (2025.2)\n"
     ]
    },
    {
     "name": "stderr",
     "output_type": "stream",
     "text": [
      "\n",
      "[notice] A new release of pip is available: 24.3.1 -> 25.1.1\n",
      "[notice] To update, run: python.exe -m pip install --upgrade pip\n"
     ]
    }
   ],
   "source": [
    "! pip install Faker "
   ]
  },
  {
   "cell_type": "code",
   "execution_count": null,
   "metadata": {},
   "outputs": [
    {
     "name": "stdout",
     "output_type": "stream",
     "text": [
      "198 112 535 938 902\n"
     ]
    },
    {
     "data": {
      "text/plain": [
       "2"
      ]
     },
     "execution_count": 25,
     "metadata": {},
     "output_type": "execute_result"
    }
   ],
   "source": [
    "import faker as fk\n",
    "\n",
    "fk_lista = [] \n",
    "\n",
    "for i in range(5):\n",
    "    fake = fk.Faker()\n",
    "    fk_lista.append(fake.numerify())\n",
    "\n",
    "print(*fk_lista)\n",
    "\n"
   ]
  },
  {
   "cell_type": "markdown",
   "metadata": {},
   "source": [
    "---\n",
    "### ***Acesse o primerio elemento da lista criado, o ultimo, e um elemento do meio, que foi riado no exercicio anterior***"
   ]
  },
  {
   "cell_type": "code",
   "execution_count": 30,
   "metadata": {},
   "outputs": [
    {
     "name": "stdout",
     "output_type": "stream",
     "text": [
      "O primerio elemento é 198\n",
      "O meio elemento é 535\n",
      "O ultimo elemento é 902\n"
     ]
    }
   ],
   "source": [
    "print('O primerio elemento é',fk_lista[0])\n",
    "print('O meio elemento é',fk_lista[len(fk_lista) // 2])\n",
    "print('O ultimo elemento é',fk_lista[-1])"
   ]
  },
  {
   "cell_type": "markdown",
   "metadata": {},
   "source": [
    "---\n",
    "### ***Modifo   ue um elemento da lista que você criou, e inprima a lista atualizado, Exemplo, trocar o valor da posiação***"
   ]
  },
  {
   "cell_type": "code",
   "execution_count": 34,
   "metadata": {},
   "outputs": [
    {
     "name": "stdout",
     "output_type": "stream",
     "text": [
      "['112', '198', 'Christina Johnson', '902', '938']\n"
     ]
    }
   ],
   "source": [
    "fk_lista[2] = fake.name()\n",
    "print(fk_lista)"
   ]
  },
  {
   "cell_type": "markdown",
   "metadata": {},
   "source": [
    "***\n",
    "### Um programa que lê 5 numeros, evque vai armazemar em uma lista e permite que o usuario escolha o indice para visualiz o numero correspodente. \n",
    "\n",
    "- ***Por exemplo, ao digitar 2, ele exibiráo segundo numero. O objetivo, por exemplo, é ler 15, 12, 5, 7 e 9 e armazenar na lista***"
   ]
  },
  {
   "cell_type": "code",
   "execution_count": null,
   "metadata": {},
   "outputs": [
    {
     "name": "stdout",
     "output_type": "stream",
     "text": [
      "Você escolheu o numero 12\n"
     ]
    }
   ],
   "source": [
    "numeros = [0] * 5\n",
    "x = 0\n",
    "\n",
    "while x < 5:\n",
    "    numeros[x] = int(input(f'Numero {x + 1}°'))\n",
    "    x += 1\n",
    "\n",
    "while True:\n",
    "    escolhido = int(input('Que posição você quer imprimir (0 para Sair)'))\n",
    "    if escolhido == 0:\n",
    "        break\n",
    "    print((f'Você escolheu o numero {numeros[escolhido - 1]}'))"
   ]
  },
  {
   "cell_type": "markdown",
   "metadata": {},
   "source": [
    "---"
   ]
  },
  {
   "cell_type": "markdown",
   "metadata": {},
   "source": [
    "### Faça um progama que leia duas listas e que gere uma terceira com elementos das duas primeiras\n"
   ]
  },
  {
   "cell_type": "code",
   "execution_count": null,
   "metadata": {},
   "outputs": [
    {
     "name": "stdout",
     "output_type": "stream",
     "text": [
      "A soma dos elementos das listas é: [1, 4, 2, 5, 3, 6]\n"
     ]
    }
   ],
   "source": [
    "list_um = [1,2,3]\n",
    "list_duis = [4,5,6]\n",
    "list_treis = []\n",
    "\n",
    "for i in range(len(list_um)):\n",
    "    list_treis.append(list_um[i])\n",
    "    list_treis.append(list_duis[i])\n",
    "print('A soma dos elementos das listas é:', list_treis)"
   ]
  },
  {
   "cell_type": "code",
   "execution_count": null,
   "metadata": {},
   "outputs": [
    {
     "name": "stdout",
     "output_type": "stream",
     "text": [
      "A soma dos elementos das listas é: [1, 2, 3, 4, 5, 6, 7, 8, 9, 10]\n"
     ]
    },
    {
     "ename": "ValueError",
     "evalue": "invalid literal for int() with base 10: ''",
     "output_type": "error",
     "traceback": [
      "\u001b[31m---------------------------------------------------------------------------\u001b[39m",
      "\u001b[31mValueError\u001b[39m                                Traceback (most recent call last)",
      "\u001b[36mCell\u001b[39m\u001b[36m \u001b[39m\u001b[32mIn[3]\u001b[39m\u001b[32m, line 9\u001b[39m\n\u001b[32m      5\u001b[39m co = \u001b[33m'\u001b[39m\u001b[33ms\u001b[39m\u001b[33m'\u001b[39m\n\u001b[32m      7\u001b[39m \u001b[38;5;28;01mwhile\u001b[39;00m co == \u001b[33m'\u001b[39m\u001b[33ms\u001b[39m\u001b[33m'\u001b[39m:\n\u001b[32m----> \u001b[39m\u001b[32m9\u001b[39m     res = \u001b[38;5;28;43mint\u001b[39;49m\u001b[43m(\u001b[49m\u001b[38;5;28;43minput\u001b[39;49m\u001b[43m(\u001b[49m\u001b[33;43m'\u001b[39;49m\u001b[33;43mDigite a quantidade de vezas que você quer adicionar nas listas: \u001b[39;49m\u001b[33;43m'\u001b[39;49m\u001b[43m)\u001b[49m\u001b[43m)\u001b[49m\n\u001b[32m     10\u001b[39m     \u001b[38;5;28;01mfor\u001b[39;00m i \u001b[38;5;129;01min\u001b[39;00m \u001b[38;5;28mrange\u001b[39m(res):\n\u001b[32m     11\u001b[39m         list_um.append(\u001b[38;5;28mint\u001b[39m(\u001b[38;5;28minput\u001b[39m(\u001b[33m'\u001b[39m\u001b[33mDigite o elemento da primeira lista: \u001b[39m\u001b[33m'\u001b[39m)))\n",
      "\u001b[31mValueError\u001b[39m: invalid literal for int() with base 10: ''"
     ]
    }
   ],
   "source": [
    "list_um = []\n",
    "list_duis = []\n",
    "list_treis = []\n",
    "\n",
    "co = 's'\n",
    "\n",
    "while co == 's':\n",
    "    \n",
    "    res = int(input('Digite a quantidade de vezas que você quer adicionar nas listas: '))\n",
    "    for i in range(res):\n",
    "        list_um.append(int(input('Digite o elemento da primeira lista: ')))\n",
    "        list_duis.append(int(input('Digite o elemento da segunda lista: ')))\n",
    "\n",
    "    for i in range(res):\n",
    "        list_treis.append(list_um[i])\n",
    "        list_treis.append(list_duis[i])\n",
    "\n",
    "    print('A primeira lista é:', list_um)\n",
    "    print('A segunda lista é:', list_duis)\n",
    "    print('A soma dos elementos das listas é:', list_treis)\n",
    "\n",
    "    co = input('Você quer continuar? (s/n): ').lower()"
   ]
  }
 ],
 "metadata": {
  "kernelspec": {
   "display_name": "Python 3",
   "language": "python",
   "name": "python3"
  },
  "language_info": {
   "codemirror_mode": {
    "name": "ipython",
    "version": 3
   },
   "file_extension": ".py",
   "mimetype": "text/x-python",
   "name": "python",
   "nbconvert_exporter": "python",
   "pygments_lexer": "ipython3",
   "version": "3.13.2"
  }
 },
 "nbformat": 4,
 "nbformat_minor": 2
}
