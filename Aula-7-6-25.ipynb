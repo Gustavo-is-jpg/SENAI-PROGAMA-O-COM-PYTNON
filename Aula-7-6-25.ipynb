{
 "cells": [
  {
   "cell_type": "markdown",
   "metadata": {},
   "source": [
    "### "
   ]
  },
  {
   "cell_type": "code",
   "execution_count": null,
   "metadata": {},
   "outputs": [
    {
     "name": "stdout",
     "output_type": "stream",
     "text": [
      "digite a medias dos valores\n",
      "[6, 6, 6]\n",
      "6.0\n"
     ]
    }
   ],
   "source": [
    "import statistics\n",
    "\n",
    "a = []\n",
    "print('digite a medias dos valores')\n",
    "while True:\n",
    "    \n",
    "    b = int (input('R: '))\n",
    "    \n",
    "    if b == 0 :\n",
    "        break\n",
    "\n",
    "    else:\n",
    "        a.append(b)\n",
    "\n",
    "cal = sum(a) / len(a)\n",
    "\n",
    "print(a)\n",
    "print(cal)"
   ]
  },
  {
   "cell_type": "code",
   "execution_count": null,
   "metadata": {},
   "outputs": [],
   "source": [
    "list_um,list_dois,list_treis = [], [], []\n",
    "\n",
    "while True:\n",
    "    a = int (input('R: '))\n",
    "\n",
    "    if a == 0:\n",
    "        break\n",
    "    else:\n",
    "        list_um.append(a)\n",
    "        a = 0\n",
    "\n",
    "while True:\n",
    "    a = int (input('R: '))\n",
    "\n",
    "    if a == 0:\n",
    "        break\n",
    "    else:\n",
    "        list_dois.append(a)\n",
    "        a = 0\n",
    "        \n",
    "    \n",
    "\n"
   ]
  },
  {
   "cell_type": "code",
   "execution_count": null,
   "metadata": {},
   "outputs": [],
   "source": [
    "list_um = []\n",
    "list_duis = []\n",
    "list_treis = []\n",
    "\n",
    "co = 's'\n",
    "\n",
    "while co == 's':\n",
    "    \n",
    "    res = int(input('Digite a quantidade de vezas que você quer adicionar nas listas: '))\n",
    "    for i in range(res):\n",
    "        list_um.append(int(input('Digite o elemento da primeira lista: ')))\n",
    "        list_duis.append(int(input('Digite o elemento da segunda lista: ')))\n",
    "\n",
    "    for i in range(res):\n",
    "        list_treis.append(list_um[i])\n",
    "        list_treis.append(list_duis[i])\n",
    "\n",
    "    print('A primeira lista é:', list_um)\n",
    "    print('A segunda lista é:', list_duis)\n",
    "    print('A soma dos elementos das listas é:', list_treis)\n",
    "\n",
    "    co = input('Você quer continuar? (s/n): ').lower()"
   ]
  }
 ],
 "metadata": {
  "kernelspec": {
   "display_name": "Python 3",
   "language": "python",
   "name": "python3"
  },
  "language_info": {
   "codemirror_mode": {
    "name": "ipython",
    "version": 3
   },
   "file_extension": ".py",
   "mimetype": "text/x-python",
   "name": "python",
   "nbconvert_exporter": "python",
   "pygments_lexer": "ipython3",
   "version": "3.13.2"
  }
 },
 "nbformat": 4,
 "nbformat_minor": 2
}
