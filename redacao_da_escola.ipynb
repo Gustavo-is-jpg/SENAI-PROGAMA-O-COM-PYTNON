{
 "cells": [
  {
   "cell_type": "code",
   "execution_count": 1,
   "metadata": {},
   "outputs": [
    {
     "name": "stdout",
     "output_type": "stream",
     "text": [
      "Defaulting to user installation because normal site-packages is not writeable\n",
      "Requirement already satisfied: selenium in c:\\users\\aluno\\appdata\\roaming\\python\\python313\\site-packages (4.32.0)\n",
      "Requirement already satisfied: webdriver-manager in c:\\users\\aluno\\appdata\\roaming\\python\\python313\\site-packages (4.0.2)\n",
      "Requirement already satisfied: urllib3<3,>=1.26 in c:\\users\\aluno\\appdata\\roaming\\python\\python313\\site-packages (from urllib3[socks]<3,>=1.26->selenium) (2.4.0)\n",
      "Requirement already satisfied: trio~=0.17 in c:\\users\\aluno\\appdata\\roaming\\python\\python313\\site-packages (from selenium) (0.30.0)\n",
      "Requirement already satisfied: trio-websocket~=0.9 in c:\\users\\aluno\\appdata\\roaming\\python\\python313\\site-packages (from selenium) (0.12.2)\n",
      "Requirement already satisfied: certifi>=2021.10.8 in c:\\users\\aluno\\appdata\\roaming\\python\\python313\\site-packages (from selenium) (2025.4.26)\n",
      "Requirement already satisfied: typing_extensions~=4.9 in c:\\users\\aluno\\appdata\\roaming\\python\\python313\\site-packages (from selenium) (4.13.2)\n",
      "Requirement already satisfied: websocket-client~=1.8 in c:\\users\\aluno\\appdata\\roaming\\python\\python313\\site-packages (from selenium) (1.8.0)\n",
      "Requirement already satisfied: requests in c:\\users\\aluno\\appdata\\roaming\\python\\python313\\site-packages (from webdriver-manager) (2.32.3)\n",
      "Requirement already satisfied: python-dotenv in c:\\users\\aluno\\appdata\\roaming\\python\\python313\\site-packages (from webdriver-manager) (1.1.0)\n",
      "Requirement already satisfied: packaging in c:\\users\\aluno\\appdata\\roaming\\python\\python313\\site-packages (from webdriver-manager) (25.0)\n",
      "Requirement already satisfied: attrs>=23.2.0 in c:\\users\\aluno\\appdata\\roaming\\python\\python313\\site-packages (from trio~=0.17->selenium) (25.3.0)\n",
      "Requirement already satisfied: sortedcontainers in c:\\users\\aluno\\appdata\\roaming\\python\\python313\\site-packages (from trio~=0.17->selenium) (2.4.0)\n",
      "Requirement already satisfied: idna in c:\\users\\aluno\\appdata\\roaming\\python\\python313\\site-packages (from trio~=0.17->selenium) (3.10)\n",
      "Requirement already satisfied: outcome in c:\\users\\aluno\\appdata\\roaming\\python\\python313\\site-packages (from trio~=0.17->selenium) (1.3.0.post0)\n",
      "Requirement already satisfied: sniffio>=1.3.0 in c:\\users\\aluno\\appdata\\roaming\\python\\python313\\site-packages (from trio~=0.17->selenium) (1.3.1)\n",
      "Requirement already satisfied: cffi>=1.14 in c:\\users\\aluno\\appdata\\roaming\\python\\python313\\site-packages (from trio~=0.17->selenium) (1.17.1)\n",
      "Requirement already satisfied: wsproto>=0.14 in c:\\users\\aluno\\appdata\\roaming\\python\\python313\\site-packages (from trio-websocket~=0.9->selenium) (1.2.0)\n",
      "Requirement already satisfied: pysocks!=1.5.7,<2.0,>=1.5.6 in c:\\users\\aluno\\appdata\\roaming\\python\\python313\\site-packages (from urllib3[socks]<3,>=1.26->selenium) (1.7.1)\n",
      "Requirement already satisfied: charset-normalizer<4,>=2 in c:\\users\\aluno\\appdata\\roaming\\python\\python313\\site-packages (from requests->webdriver-manager) (3.4.2)\n",
      "Requirement already satisfied: pycparser in c:\\users\\aluno\\appdata\\roaming\\python\\python313\\site-packages (from cffi>=1.14->trio~=0.17->selenium) (2.22)\n",
      "Requirement already satisfied: h11<1,>=0.9.0 in c:\\users\\aluno\\appdata\\roaming\\python\\python313\\site-packages (from wsproto>=0.14->trio-websocket~=0.9->selenium) (0.16.0)\n"
     ]
    },
    {
     "name": "stderr",
     "output_type": "stream",
     "text": [
      "\n",
      "[notice] A new release of pip is available: 24.3.1 -> 25.1.1\n",
      "[notice] To update, run: python.exe -m pip install --upgrade pip\n"
     ]
    },
    {
     "name": "stdout",
     "output_type": "stream",
     "text": [
      "Defaulting to user installation because normal site-packages is not writeable\n",
      "Requirement already satisfied: pandas in c:\\users\\aluno\\appdata\\roaming\\python\\python313\\site-packages (2.2.3)\n",
      "Requirement already satisfied: numpy>=1.26.0 in c:\\users\\aluno\\appdata\\roaming\\python\\python313\\site-packages (from pandas) (2.2.5)\n",
      "Requirement already satisfied: python-dateutil>=2.8.2 in c:\\users\\aluno\\appdata\\roaming\\python\\python313\\site-packages (from pandas) (2.9.0.post0)\n",
      "Requirement already satisfied: pytz>=2020.1 in c:\\users\\aluno\\appdata\\roaming\\python\\python313\\site-packages (from pandas) (2025.2)\n",
      "Requirement already satisfied: tzdata>=2022.7 in c:\\users\\aluno\\appdata\\roaming\\python\\python313\\site-packages (from pandas) (2025.2)\n",
      "Requirement already satisfied: six>=1.5 in c:\\users\\aluno\\appdata\\roaming\\python\\python313\\site-packages (from python-dateutil>=2.8.2->pandas) (1.17.0)\n"
     ]
    },
    {
     "name": "stderr",
     "output_type": "stream",
     "text": [
      "\n",
      "[notice] A new release of pip is available: 24.3.1 -> 25.1.1\n",
      "[notice] To update, run: python.exe -m pip install --upgrade pip\n"
     ]
    }
   ],
   "source": [
    "! pip install selenium webdriver-manager\n",
    "! pip install pandas\n"
   ]
  },
  {
   "cell_type": "code",
   "execution_count": 2,
   "metadata": {},
   "outputs": [],
   "source": [
    "import pandas as pd\n",
    "from selenium import webdriver\n",
    "from selenium.webdriver.chrome.service import Service\n",
    "from webdriver_manager.chrome import ChromeDriverManager\n",
    "from selenium.webdriver.common.by import By\n",
    "from selenium.webdriver.common.keys import Keys\n",
    "import time\n",
    "\n",
    "\n",
    "service = Service(ChromeDriverManager().install())\n"
   ]
  },
  {
   "cell_type": "code",
   "execution_count": 4,
   "metadata": {},
   "outputs": [
    {
     "ename": "NoSuchElementException",
     "evalue": "Message: no such element: Unable to locate element: {\"method\":\"xpath\",\"selector\":\"/html/body/div[1]/div[2]/header/div/svg\"}\n  (Session info: chrome=136.0.7103.114); For documentation on this error, please visit: https://www.selenium.dev/documentation/webdriver/troubleshooting/errors#no-such-element-exception\nStacktrace:\n\tGetHandleVerifier [0x0099FC83+61635]\n\tGetHandleVerifier [0x0099FCC4+61700]\n\t(No symbol) [0x007C05D3]\n\t(No symbol) [0x0080899E]\n\t(No symbol) [0x00808D3B]\n\t(No symbol) [0x00850E12]\n\t(No symbol) [0x0082D2E4]\n\t(No symbol) [0x0084E61B]\n\t(No symbol) [0x0082D096]\n\t(No symbol) [0x007FC840]\n\t(No symbol) [0x007FD6A4]\n\tGetHandleVerifier [0x00C245A3+2701795]\n\tGetHandleVerifier [0x00C1FD26+2683238]\n\tGetHandleVerifier [0x00C3AA6E+2793134]\n\tGetHandleVerifier [0x009B6945+155013]\n\tGetHandleVerifier [0x009BD02D+181357]\n\tGetHandleVerifier [0x009A74D8+92440]\n\tGetHandleVerifier [0x009A7680+92864]\n\tGetHandleVerifier [0x00992070+5296]\n\tBaseThreadInitThunk [0x765D7BA9+25]\n\tRtlInitializeExceptionChain [0x7778C0CB+107]\n\tRtlClearBits [0x7778C04F+191]\n",
     "output_type": "error",
     "traceback": [
      "\u001b[31m---------------------------------------------------------------------------\u001b[39m",
      "\u001b[31mNoSuchElementException\u001b[39m                    Traceback (most recent call last)",
      "\u001b[36mCell\u001b[39m\u001b[36m \u001b[39m\u001b[32mIn[4]\u001b[39m\u001b[32m, line 44\u001b[39m\n\u001b[32m     38\u001b[39m navegador.find_element(By.XPATH, ir_para_oi).click()\n\u001b[32m     41\u001b[39m calocar_a_redacao = \u001b[33m'\u001b[39m\u001b[33m/html/body/div[1]/div[2]/header/div/svg\u001b[39m\u001b[33m'\u001b[39m\n\u001b[32m---> \u001b[39m\u001b[32m44\u001b[39m \u001b[43mnavegador\u001b[49m\u001b[43m.\u001b[49m\u001b[43mfind_element\u001b[49m\u001b[43m(\u001b[49m\u001b[43mBy\u001b[49m\u001b[43m.\u001b[49m\u001b[43mXPATH\u001b[49m\u001b[43m,\u001b[49m\u001b[43m \u001b[49m\u001b[43mcalocar_a_redacao\u001b[49m\u001b[43m)\u001b[49m.click()\n",
      "\u001b[36mFile \u001b[39m\u001b[32m~\\AppData\\Roaming\\Python\\Python313\\site-packages\\selenium\\webdriver\\remote\\webdriver.py:917\u001b[39m, in \u001b[36mWebDriver.find_element\u001b[39m\u001b[34m(self, by, value)\u001b[39m\n\u001b[32m    914\u001b[39m         \u001b[38;5;28;01mraise\u001b[39;00m NoSuchElementException(\u001b[33mf\u001b[39m\u001b[33m\"\u001b[39m\u001b[33mCannot locate relative element with: \u001b[39m\u001b[38;5;132;01m{\u001b[39;00mby.root\u001b[38;5;132;01m}\u001b[39;00m\u001b[33m\"\u001b[39m)\n\u001b[32m    915\u001b[39m     \u001b[38;5;28;01mreturn\u001b[39;00m elements[\u001b[32m0\u001b[39m]\n\u001b[32m--> \u001b[39m\u001b[32m917\u001b[39m \u001b[38;5;28;01mreturn\u001b[39;00m \u001b[38;5;28;43mself\u001b[39;49m\u001b[43m.\u001b[49m\u001b[43mexecute\u001b[49m\u001b[43m(\u001b[49m\u001b[43mCommand\u001b[49m\u001b[43m.\u001b[49m\u001b[43mFIND_ELEMENT\u001b[49m\u001b[43m,\u001b[49m\u001b[43m \u001b[49m\u001b[43m{\u001b[49m\u001b[33;43m\"\u001b[39;49m\u001b[33;43musing\u001b[39;49m\u001b[33;43m\"\u001b[39;49m\u001b[43m:\u001b[49m\u001b[43m \u001b[49m\u001b[43mby\u001b[49m\u001b[43m,\u001b[49m\u001b[43m \u001b[49m\u001b[33;43m\"\u001b[39;49m\u001b[33;43mvalue\u001b[39;49m\u001b[33;43m\"\u001b[39;49m\u001b[43m:\u001b[49m\u001b[43m \u001b[49m\u001b[43mvalue\u001b[49m\u001b[43m}\u001b[49m\u001b[43m)\u001b[49m[\u001b[33m\"\u001b[39m\u001b[33mvalue\u001b[39m\u001b[33m\"\u001b[39m]\n",
      "\u001b[36mFile \u001b[39m\u001b[32m~\\AppData\\Roaming\\Python\\Python313\\site-packages\\selenium\\webdriver\\remote\\webdriver.py:448\u001b[39m, in \u001b[36mWebDriver.execute\u001b[39m\u001b[34m(self, driver_command, params)\u001b[39m\n\u001b[32m    446\u001b[39m response = \u001b[38;5;28mself\u001b[39m.command_executor.execute(driver_command, params)\n\u001b[32m    447\u001b[39m \u001b[38;5;28;01mif\u001b[39;00m response:\n\u001b[32m--> \u001b[39m\u001b[32m448\u001b[39m     \u001b[38;5;28;43mself\u001b[39;49m\u001b[43m.\u001b[49m\u001b[43merror_handler\u001b[49m\u001b[43m.\u001b[49m\u001b[43mcheck_response\u001b[49m\u001b[43m(\u001b[49m\u001b[43mresponse\u001b[49m\u001b[43m)\u001b[49m\n\u001b[32m    449\u001b[39m     response[\u001b[33m\"\u001b[39m\u001b[33mvalue\u001b[39m\u001b[33m\"\u001b[39m] = \u001b[38;5;28mself\u001b[39m._unwrap_value(response.get(\u001b[33m\"\u001b[39m\u001b[33mvalue\u001b[39m\u001b[33m\"\u001b[39m, \u001b[38;5;28;01mNone\u001b[39;00m))\n\u001b[32m    450\u001b[39m     \u001b[38;5;28;01mreturn\u001b[39;00m response\n",
      "\u001b[36mFile \u001b[39m\u001b[32m~\\AppData\\Roaming\\Python\\Python313\\site-packages\\selenium\\webdriver\\remote\\errorhandler.py:232\u001b[39m, in \u001b[36mErrorHandler.check_response\u001b[39m\u001b[34m(self, response)\u001b[39m\n\u001b[32m    230\u001b[39m         alert_text = value[\u001b[33m\"\u001b[39m\u001b[33malert\u001b[39m\u001b[33m\"\u001b[39m].get(\u001b[33m\"\u001b[39m\u001b[33mtext\u001b[39m\u001b[33m\"\u001b[39m)\n\u001b[32m    231\u001b[39m     \u001b[38;5;28;01mraise\u001b[39;00m exception_class(message, screen, stacktrace, alert_text)  \u001b[38;5;66;03m# type: ignore[call-arg]  # mypy is not smart enough here\u001b[39;00m\n\u001b[32m--> \u001b[39m\u001b[32m232\u001b[39m \u001b[38;5;28;01mraise\u001b[39;00m exception_class(message, screen, stacktrace)\n",
      "\u001b[31mNoSuchElementException\u001b[39m: Message: no such element: Unable to locate element: {\"method\":\"xpath\",\"selector\":\"/html/body/div[1]/div[2]/header/div/svg\"}\n  (Session info: chrome=136.0.7103.114); For documentation on this error, please visit: https://www.selenium.dev/documentation/webdriver/troubleshooting/errors#no-such-element-exception\nStacktrace:\n\tGetHandleVerifier [0x0099FC83+61635]\n\tGetHandleVerifier [0x0099FCC4+61700]\n\t(No symbol) [0x007C05D3]\n\t(No symbol) [0x0080899E]\n\t(No symbol) [0x00808D3B]\n\t(No symbol) [0x00850E12]\n\t(No symbol) [0x0082D2E4]\n\t(No symbol) [0x0084E61B]\n\t(No symbol) [0x0082D096]\n\t(No symbol) [0x007FC840]\n\t(No symbol) [0x007FD6A4]\n\tGetHandleVerifier [0x00C245A3+2701795]\n\tGetHandleVerifier [0x00C1FD26+2683238]\n\tGetHandleVerifier [0x00C3AA6E+2793134]\n\tGetHandleVerifier [0x009B6945+155013]\n\tGetHandleVerifier [0x009BD02D+181357]\n\tGetHandleVerifier [0x009A74D8+92440]\n\tGetHandleVerifier [0x009A7680+92864]\n\tGetHandleVerifier [0x00992070+5296]\n\tBaseThreadInitThunk [0x765D7BA9+25]\n\tRtlInitializeExceptionChain [0x7778C0CB+107]\n\tRtlClearBits [0x7778C04F+191]\n"
     ]
    }
   ],
   "source": [
    "\n",
    "navegador = webdriver.Chrome(service=service)\n",
    "\n",
    "\n",
    "navegador.get('https://saladofuturo.educacao.sp.gov.br/login-alunos')\n",
    "navegador.maximize_window()\n",
    "\n",
    "\n",
    "ra_campo_xpath = '/html/body/div[1]/div[2]/div[3]/div[2]/div[2]/div[1]/div/div/input'  # Este é um exemplo, você precisaria do XPath real\n",
    "ra = '000111473697'\n",
    "\n",
    "ra_ps_campo_xpath = '//*[@id=\":r1:\"]'\n",
    "ra_ps = '1'\n",
    "\n",
    "senha_campo = '//*[@id=\"input-senha\"]'\n",
    "senha = 'Husk###1'\n",
    "\n",
    "time.sleep(4)\n",
    "navegador.find_element(By.XPATH, ra_campo_xpath).send_keys(ra)\n",
    "navegador.find_element(By.XPATH, ra_ps_campo_xpath).send_keys(ra_ps)\n",
    "navegador.find_element(By.XPATH, senha_campo).send_keys(senha, Keys.ENTER)\n",
    "\n",
    "\n",
    "navegador.find_element(By.XPATH, senha_campo).send_keys(Keys.ENTER)\n",
    "navegador.find_element(By.XPATH, senha_campo).send_keys(Keys.ENTER)\n",
    "navegador.find_element(By.XPATH, senha_campo).send_keys(Keys.ENTER)\n",
    "\n",
    "ir_para_redacao = '//*[@id=\"root\"]/div[2]/div[2]/div/div[1]/div[2]/div/div/div/div[1]/div/div/div[2]/div/div[2]/div[2]/div[4]/div/div'\n",
    "ir_para_tarefa_redacao = '//*[@id=\"root\"]/div[2]/div[2]/div/div[1]/div[2]/div/div/div/div[1]/div/div/div[6]/div/div[2]/div/div/div/div/div[2]/p'\n",
    "\n",
    "time.sleep(6)\n",
    "navegador.find_element(By.XPATH, ir_para_redacao).click()\n",
    "\n",
    "time.sleep(4)\n",
    "navegador.find_element(By.XPATH, ir_para_tarefa_redacao).click()\n",
    "\n",
    "ir_para_oi = '//*[@id=\"root\"]/div[2]/div[2]/div/div[1]/div[2]/div/div/div/div[1]/div/div/div[6]/div/div[2]/div/div/div/div/div[7]/button'\n",
    "\n",
    "navegador.find_element(By.XPATH, ir_para_oi).click()\n",
    "\n",
    "\n",
    "calocar_a_redacao = '/html/body/div[1]/div[2]/header/div/svg'\n",
    "\n",
    "\n",
    "navegador.find_element(By.XPATH, calocar_a_redacao).click()\n",
    "\n"
   ]
  }
 ],
 "metadata": {
  "kernelspec": {
   "display_name": "Python 3",
   "language": "python",
   "name": "python3"
  },
  "language_info": {
   "codemirror_mode": {
    "name": "ipython",
    "version": 3
   },
   "file_extension": ".py",
   "mimetype": "text/x-python",
   "name": "python",
   "nbconvert_exporter": "python",
   "pygments_lexer": "ipython3",
   "version": "3.13.2"
  }
 },
 "nbformat": 4,
 "nbformat_minor": 2
}
