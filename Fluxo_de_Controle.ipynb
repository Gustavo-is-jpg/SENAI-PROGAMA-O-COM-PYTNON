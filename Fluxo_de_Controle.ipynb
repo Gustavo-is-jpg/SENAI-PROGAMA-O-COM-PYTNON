{
 "cells": [
  {
   "cell_type": "markdown",
   "metadata": {},
   "source": [
    "# Fluxos de Controlhe em py"
   ]
  },
  {
   "cell_type": "markdown",
   "metadata": {},
   "source": [
    "### Estrutura Condicional `if`\n",
    "### Estrutura Condicional `if - else`\n",
    "### Estrutura Condicional `if - elif- else`"
   ]
  },
  {
   "cell_type": "code",
   "execution_count": null,
   "metadata": {},
   "outputs": [
    {
     "name": "stdout",
     "output_type": "stream",
     "text": [
      "Voce é pode tiar a CNH\n",
      "Fim do programa\n"
     ]
    }
   ],
   "source": [
    "idade = int(input('INsira a sua idade: '))\n",
    "\n",
    "if idade >= 18:\n",
    "    print('Voce pode tiar a CNH')\n",
    "print('Fim do programa')"
   ]
  },
  {
   "cell_type": "code",
   "execution_count": null,
   "metadata": {},
   "outputs": [],
   "source": [
    "var_y = 0\n",
    "var_a = 0\n",
    "var_c = 0\n",
    "var_z = 0\n",
    "var_y = 5\n",
    "\n",
    "if vcax_a <10:\n",
    "    var_a = var_y\n",
    "    \n",
    "\n",
    "print"
   ]
  },
  {
   "cell_type": "code",
   "execution_count": null,
   "metadata": {},
   "outputs": [],
   "source": [
    "x -3\n",
    "y = 0 < 10:)\n",
    "    print(x)\n",
    "Y=X\n",
    "print(f'O valo de{x} <10')"
   ]
  },
  {
   "cell_type": "code",
   "execution_count": 4,
   "metadata": {},
   "outputs": [
    {
     "name": "stdout",
     "output_type": "stream",
     "text": [
      "O aluno(a) foi Aprovado(a)\n"
     ]
    }
   ],
   "source": [
    "nota1 = float(input('Digite a nota do primero bimestre'))\n",
    "nota2 = float(input('Digite a nota do segundo bimestre'))\n",
    "nota3 = float(input('Digite a nota do tresero bimestre'))\n",
    "nota4 = float(input('Digite a nota do qualto bimestre'))\n",
    "\n",
    "media = (nota1 +nota2 +nota3 +nota4 )\n",
    "\n",
    "if media <= 5:\n",
    "    print('O aluno(a) foi Reprovado(a)')\n",
    "elif media >= 6:\n",
    "    print('O aluno(a) foi Aprovado(a)')"
   ]
  },
  {
   "cell_type": "code",
   "execution_count": null,
   "metadata": {},
   "outputs": [],
   "source": []
  }
 ],
 "metadata": {
  "kernelspec": {
   "display_name": "Python 3",
   "language": "python",
   "name": "python3"
  },
  "language_info": {
   "codemirror_mode": {
    "name": "ipython",
    "version": 3
   },
   "file_extension": ".py",
   "mimetype": "text/x-python",
   "name": "python",
   "nbconvert_exporter": "python",
   "pygments_lexer": "ipython3",
   "version": "3.13.2"
  }
 },
 "nbformat": 4,
 "nbformat_minor": 2
}
