{
 "cells": [
  {
   "cell_type": "markdown",
   "metadata": {},
   "source": [
    "# Atividades de Programação com Funções em Python\n",
    "\n",
    "## *Instruções*\n",
    "\n",
    "Para cada problema abaixo, você deve:\n",
    "Criar uma ou mais funções para resolver a tarefa proposta.\n",
    "Garantir que suas funções recebam os parâmetros necessários e, se for o caso, retornem os valores\n",
    "calculados.\n",
    "Utilizar a função principal do seu programa para chamar as funções que você criou, recebendo\n",
    "entradas do usuário quando necessário e exibindo os resultados.\n",
    "\n",
    "## `Atividades`"
   ]
  },
  {
   "cell_type": "markdown",
   "metadata": {},
   "source": [
    "___\n",
    "### 1. Multiplicação Especial\n",
    "\n",
    ">Escreva um programa que tenha uma função. Esta função deve calcular e exibir o resultado de 2a × 3b, onde\n",
    "a = 3 e b = 5.\n",
    "\n"
   ]
  },
  {
   "cell_type": "code",
   "execution_count": 1,
   "metadata": {},
   "outputs": [
    {
     "name": "stdout",
     "output_type": "stream",
     "text": [
      "90\n"
     ]
    }
   ],
   "source": [
    "def especial(a, b):\n",
    "    cal = ((2*a) * (3*b))\n",
    "    return cal\n",
    "\n",
    "print(especial(3, 5))"
   ]
  },
  {
   "cell_type": "markdown",
   "metadata": {},
   "source": [
    "***\n",
    "### 2. Soma de Três Números\n",
    "\n",
    ">Crie uma função que receba três números como entrada e retorne a soma deles. Seu programa deve então\n",
    "chamar essa função e imprimir o resultado.\n",
    "\n"
   ]
  },
  {
   "cell_type": "code",
   "execution_count": 2,
   "metadata": {},
   "outputs": [
    {
     "name": "stdout",
     "output_type": "stream",
     "text": [
      "6\n"
     ]
    }
   ],
   "source": [
    "def tres (a,b,c):\n",
    "    cal = (a + b + c)\n",
    "    return cal\n",
    "\n",
    "print(tres(1,2,3))"
   ]
  },
  {
   "cell_type": "markdown",
   "metadata": {},
   "source": [
    "***\n",
    "### 3. Imposto de Renda Simplificado\n",
    "\n",
    "> Desenvolva uma função que determine se uma pessoa deve ou não pagar imposto. A função deve receber o\n",
    "salário da pessoa e retornar True se o salário for maior que R$ 1.200,00, e False caso contrário.\n",
    "No seu programa principal, utilize essa função para informar ao usuário se ele deve pagar imposto.\n"
   ]
  },
  {
   "cell_type": "code",
   "execution_count": 3,
   "metadata": {},
   "outputs": [
    {
     "name": "stdout",
     "output_type": "stream",
     "text": [
      "True\n"
     ]
    }
   ],
   "source": [
    "def renda (a):\n",
    "    if a > 1200:\n",
    "        sai = True\n",
    "        return sai\n",
    "    else:\n",
    "        sai = False\n",
    "        return sai\n",
    "    \n",
    "res = renda(int(input('Digite o seu salario:')))\n",
    "\n",
    "print(res)"
   ]
  },
  {
   "cell_type": "markdown",
   "metadata": {},
   "source": [
    "***\n",
    "### 4. Calculadora de Aumento Salarial\n",
    "\n",
    ">Crie duas funções:\n",
    ">\n",
    ">- Uma função que calcule o valor do aumento de um salário, dados o salário atual e a porcentagem\n",
    "de aumento.\n",
    ">\n",
    ">- Outra função que calcule o novo salário somando o salário atual ao valor do aumento.\n",
    "Seu programa deve solicitar ao usuário o salário e a porcentagem de aumento, e então exibir o valor do\n",
    "aumento e o novo salário utilizando as funções criadas.\n",
    "\n"
   ]
  },
  {
   "cell_type": "code",
   "execution_count": 4,
   "metadata": {},
   "outputs": [
    {
     "name": "stdout",
     "output_type": "stream",
     "text": [
      "% 1000.0\n",
      "\n",
      "2000.0\n"
     ]
    }
   ],
   "source": [
    "def aumento (a, b):\n",
    "    cal = ((a / 100) * b)\n",
    "    return cal\n",
    "\n",
    "def aumento_defenitivi (a, b):\n",
    "    cal = (a + b)\n",
    "    return cal\n",
    "\n",
    "salario = int(input('Digite o salario atual: '))\n",
    "aumento_nao_cal = float(input('Digite o aumento do salario em %: '))\n",
    "\n",
    "al = aumento(aumento_nao_cal, salario)\n",
    "\n",
    "print('%',al)\n",
    "print('')\n",
    "print(aumento_defenitivi(salario, al ))"
   ]
  },
  {
   "cell_type": "markdown",
   "metadata": {},
   "source": [
    "***\n",
    "### 5. Área de Terreno Retangular\n",
    "\n",
    "> Faça um programa que contenha uma função chamada area(). Essa função deve receber as dimensões de\n",
    "um terreno retangular (largura e comprimento) e mostrar a área calculada do terreno.\n"
   ]
  },
  {
   "cell_type": "code",
   "execution_count": 5,
   "metadata": {},
   "outputs": [
    {
     "name": "stdout",
     "output_type": "stream",
     "text": [
      "A ária é 100.0\n"
     ]
    }
   ],
   "source": [
    "def area(largura, comprimrnto):\n",
    "    cal = largura * comprimrnto\n",
    "    return cal\n",
    "\n",
    "\n",
    "largura = float(input('Infome a largura:'))\n",
    "comprimrnto = float(input('Infome a comprimrnto:'))\n",
    "\n",
    "print('A ária é', area(largura, comprimrnto))"
   ]
  },
  {
   "cell_type": "markdown",
   "metadata": {},
   "source": [
    "***\n",
    "### 6. Radar de Velocidade\n",
    "\n",
    "> Escreva um programa com uma função que verifique a velocidade de um carro.\n",
    "Se a velocidade ultrapassar 80 km/h, a função deve calcular e retornar o valor da multa (R$ 5 por km acima\n",
    "de 80 km/h).\n",
    ">\n",
    "> Caso contrário, a função deve indicar que não há multa (por exemplo, retornando None ou 0).\n",
    "Seu programa deve exibir uma mensagem informando se o usuário foi multado e, se sim, o valor da multa.\n",
    "\n"
   ]
  },
  {
   "cell_type": "code",
   "execution_count": 6,
   "metadata": {},
   "outputs": [
    {
     "name": "stdout",
     "output_type": "stream",
     "text": [
      "Você foi mutado em 5.0\n"
     ]
    }
   ],
   "source": [
    "def vere(velociade):\n",
    "    limite = 80\n",
    "    if velociade >= limite:\n",
    "        muta = (velociade // limite) * 5\n",
    "        return muta\n",
    "    else:\n",
    "        muta = None\n",
    "        return\n",
    "    \n",
    "\n",
    "velociade_carro = float(input('Informe a velosidade do carro: '))\n",
    "\n",
    "muta = vere(velociade_carro)\n",
    "\n",
    "if muta == None:\n",
    "    print('Você não foi mutado')\n",
    "\n",
    "else:\n",
    "    print('Você foi mutado em', muta)"
   ]
  },
  {
   "cell_type": "markdown",
   "metadata": {},
   "source": [
    "---\n",
    "### 7. Aluguel de Carro\n",
    "\n",
    "> Crie uma função que calcule o preço total a pagar pelo aluguel de um carro.\n",
    ">\n",
    "> A função deve receber a quantidade de quilômetros percorridos e a quantidade de dias pelos quais o\n",
    "carro foi alugado.\n",
    ">\n",
    "> Considere:\n",
    ">\n",
    ">- R$ 60 por dia\n",
    ">\n",
    ">- R$ 0,15 por km rodado\n",
    ">\n",
    ">- O programa deve solicitar esses dados ao usuário e imprimir o preço total usando sua função.\n"
   ]
  },
  {
   "cell_type": "code",
   "execution_count": 7,
   "metadata": {},
   "outputs": [
    {
     "name": "stdout",
     "output_type": "stream",
     "text": [
      "O valor do aluguel é de R$ 615.0\n"
     ]
    }
   ],
   "source": [
    "def aluguel(dias, km):\n",
    "    cal = (dias * 60) + (km * 0.15)\n",
    "    return cal\n",
    "\n",
    "dias = int(input('Informe os dias de aluguel: '))\n",
    "km = float(input('Informe os km rodados: '))\n",
    "\n",
    "print('O valor do aluguel é de R$', aluguel(dias, km))"
   ]
  },
  {
   "cell_type": "markdown",
   "metadata": {},
   "source": [
    "---\n",
    "### 8. Preço da Passagem\n",
    "\n",
    "> Escreva uma função que calcule o preço da passagem de uma viagem. A função deve receber a distância\n",
    " que um passageiro deseja percorrer em km.\n",
    "> \n",
    "> Regras:\n",
    ">\n",
    ">- Até 200 km: R$ 0,50 por km\n",
    ">\n",
    ">- Acima de 200 km: R$ 0,45 por km\n",
    ">\n",
    ">- Seu programa deve pedir a distância ao usuário e exibir o preço da passagem calculado pela função.\n"
   ]
  },
  {
   "cell_type": "code",
   "execution_count": 8,
   "metadata": {},
   "outputs": [
    {
     "name": "stdout",
     "output_type": "stream",
     "text": [
      "O valor da passagem é 50.0\n"
     ]
    }
   ],
   "source": [
    "def passagem(km):\n",
    "    if km <= 200:\n",
    "        cal = km * 0.50\n",
    "    else:\n",
    "        cal = (km * 0.45)\n",
    "    return cal\n",
    "\n",
    "km = float(input('Informe a distancia da viagem: '))\n",
    "\n",
    "print('O valor da passagem é', passagem(km))"
   ]
  },
  {
   "cell_type": "markdown",
   "metadata": {},
   "source": [
    "\n",
    "---\n",
    "### 9. Aprovação de Empréstimo Imobiliário\n",
    "\n",
    "> Crie funções para auxiliar na aprovação de um empréstimo bancário para a compra de uma casa:\n",
    ">- Uma função deve calcular o valor da prestação mensal, dados o valor da casa e a quantidade de anos\n",
    "a pagar.\n",
    ">\n",
    ">-  Outra função deve verificar se o empréstimo pode ser aprovado.\n",
    "A função receberá o salário do solicitante e o valor da prestação mensal.\n",
    "Regra: a prestação não pode exceder 30% do salário.\n",
    "A função deve retornar True para aprovação e False para negação.\n",
    "O programa deve solicitar os dados necessários e informar se o empréstimo foi aprovado ou negado, com\n",
    "base nas funções."
   ]
  },
  {
   "cell_type": "code",
   "execution_count": 13,
   "metadata": {},
   "outputs": [
    {
     "name": "stdout",
     "output_type": "stream",
     "text": [
      "False\n"
     ]
    }
   ],
   "source": [
    "def prestacao (casa , anos, salario):\n",
    "    pres_por_mensal = (casa / anos) / 12\n",
    "    if pres_por_mensal >= (salario /100):\n",
    "        return False\n",
    "    else:\n",
    "        return True\n",
    "    \n",
    "casa = float(input('Valor da casa: '))\n",
    "anos = int(input('Informe o tempo(em anos): '))\n",
    "salario= int(input('Digite o salario: '))\n",
    "\n",
    "print(prestacao(casa, anos, salario))"
   ]
  },
  {
   "cell_type": "markdown",
   "metadata": {},
   "source": [
    "##### Criado por `Gustavo` e `Lucaa`\n",
    "---"
   ]
  }
 ],
 "metadata": {
  "kernelspec": {
   "display_name": "Python 3",
   "language": "python",
   "name": "python3"
  },
  "language_info": {
   "codemirror_mode": {
    "name": "ipython",
    "version": 3
   },
   "file_extension": ".py",
   "mimetype": "text/x-python",
   "name": "python",
   "nbconvert_exporter": "python",
   "pygments_lexer": "ipython3",
   "version": "3.13.2"
  }
 },
 "nbformat": 4,
 "nbformat_minor": 2
}
