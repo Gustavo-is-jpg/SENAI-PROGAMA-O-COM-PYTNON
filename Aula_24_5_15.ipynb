{
 "cells": [
  {
   "cell_type": "code",
   "execution_count": 1,
   "metadata": {},
   "outputs": [
    {
     "data": {
      "text/plain": [
       "True"
      ]
     },
     "execution_count": 1,
     "metadata": {},
     "output_type": "execute_result"
    }
   ],
   "source": [
    "def ehpar (x):\n",
    "    return (x % 2 == 0)\n",
    "\n",
    "v = int(input('o: '))\n",
    "ehpar(v)"
   ]
  },
  {
   "cell_type": "code",
   "execution_count": 12,
   "metadata": {},
   "outputs": [
    {
     "name": "stdout",
     "output_type": "stream",
     "text": [
      "Ária: 4.0\n",
      "Perímetro: 8.0\n"
     ]
    }
   ],
   "source": [
    "def aria_qua(a):\n",
    "    aria = a ** 2\n",
    "    perimetro = a *4\n",
    "    return aria, perimetro\n",
    "\n",
    "lado = float(input('Qual e o lado: '))\n",
    "\n",
    "re = list(aria_qua(lado))\n",
    "\n",
    "print(f'Ária: {re[0]}')\n",
    "print(f'Perímetro: {re[1]}')\n"
   ]
  },
  {
   "cell_type": "markdown",
   "metadata": {},
   "source": [
    "Atividades de Programação com Funções em Python\n",
    "Instruções\n",
    "Para cada problema abaixo, você deve:\n",
    "\n",
    "Criar uma ou mais funções para resolver a tarefa proposta.\n",
    "\n",
    "Garantir que suas funções recebam os parâmetros necessários e, se for o caso, retornem os valores calculados.\n",
    "\n",
    "Utilizar a função principal do seu programa para chamar as funções que você criou, recebendo\n",
    "entradas do usuário quando necessário e exibindo os resultados."
   ]
  },
  {
   "cell_type": "markdown",
   "metadata": {},
   "source": [
    "## **Atividades**\n"
   ]
  },
  {
   "cell_type": "markdown",
   "metadata": {},
   "source": [
    "6. Radar de Velocidade\n",
    "\n",
    "Escreva um programa com uma função que verifique a velocidade de um carro.\n",
    "Se a velocidade ultrapassar 80 km/h, a função deve calcular e retornar o valor da multa (R$ 5 por km acima\n",
    "de 80 km/h).\n",
    "Caso contrário, a função deve indicar que não há multa (por exemplo, retornando None ou 0).\n",
    "Seu programa deve exibir uma mensagem informando se o usuário foi multado e, se sim, o valor da multa."
   ]
  },
  {
   "cell_type": "code",
   "execution_count": 17,
   "metadata": {},
   "outputs": [
    {
     "name": "stdout",
     "output_type": "stream",
     "text": [
      "Você foi mutado em 10.0\n"
     ]
    }
   ],
   "source": [
    "def vere(velociade):\n",
    "    limite = 80\n",
    "    if velociade >= limite:\n",
    "        muta = (velociade // limite) * 5\n",
    "        return muta\n",
    "    else:\n",
    "        muta = None\n",
    "        return\n",
    "    \n",
    "\n",
    "velociade_carro = float(input('Informe a velosidade do carro: '))\n",
    "\n",
    "muta = vere(velociade_carro)\n",
    "\n",
    "if muta == None:\n",
    "    print('Você não foi mutado')\n",
    "\n",
    "else:\n",
    "    print('Você foi mutado em', muta)\n",
    "\n",
    "\n"
   ]
  },
  {
   "cell_type": "markdown",
   "metadata": {},
   "source": [
    "7. Aluguel de Carro\n",
    "Crie uma função que calcule o preço total a pagar pelo aluguel de um carro.\n",
    "\n",
    "A função deve receber a quantidade de quilômetros percorridos e a quantidade de dias pelos quais o\n",
    "carro foi alugado.\n",
    "\n",
    "Considere:\n",
    "\n",
    "R$ 60 por dia\n",
    "\n",
    "R$ 0,15 por km rodado\n",
    "\n",
    "O programa deve solicitar esses dados ao usuário e imprimir o preço total usando sua função."
   ]
  },
  {
   "cell_type": "code",
   "execution_count": null,
   "metadata": {},
   "outputs": [],
   "source": []
  }
 ],
 "metadata": {
  "kernelspec": {
   "display_name": "Python 3",
   "language": "python",
   "name": "python3"
  },
  "language_info": {
   "codemirror_mode": {
    "name": "ipython",
    "version": 3
   },
   "file_extension": ".py",
   "mimetype": "text/x-python",
   "name": "python",
   "nbconvert_exporter": "python",
   "pygments_lexer": "ipython3",
   "version": "3.13.2"
  }
 },
 "nbformat": 4,
 "nbformat_minor": 2
}
